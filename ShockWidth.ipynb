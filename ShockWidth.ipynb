{
 "cells": [
  {
   "cell_type": "markdown",
   "metadata": {},
   "source": [
    "# Imports"
   ]
  },
  {
   "cell_type": "code",
   "execution_count": 1,
   "metadata": {},
   "outputs": [],
   "source": [
    "%matplotlib inline"
   ]
  },
  {
   "cell_type": "code",
   "execution_count": 2,
   "metadata": {},
   "outputs": [],
   "source": [
    "import numpy as np\n",
    "import matplotlib.pyplot as plt\n",
    "import sympy\n",
    "import scipy.linalg as sla\n",
    "import scipy.integrate as scii\n",
    "from bgk_transport import BGK_Htransport\n",
    "from constants import si_const"
   ]
  },
  {
   "cell_type": "markdown",
   "metadata": {},
   "source": [
    "# Settings"
   ]
  },
  {
   "cell_type": "code",
   "execution_count": 13,
   "metadata": {},
   "outputs": [
    {
     "name": "stdout",
     "output_type": "stream",
     "text": [
      "0.000000e+00\n"
     ]
    }
   ],
   "source": [
    "print(\"%e\" % (np.sin(0.5*np.pi)-1.0))"
   ]
  },
  {
   "cell_type": "code",
   "execution_count": 3,
   "metadata": {},
   "outputs": [],
   "source": [
    "nprec = np.double"
   ]
  },
  {
   "cell_type": "markdown",
   "metadata": {},
   "source": [
    "# 1d Multi-Species Flow Equations"
   ]
  },
  {
   "cell_type": "markdown",
   "metadata": {},
   "source": [
    "## Underlying Kinetics $^{1}$"
   ]
  },
  {
   "cell_type": "markdown",
   "metadata": {},
   "source": [
    "### Kinetic Equation"
   ]
  },
  {
   "cell_type": "markdown",
   "metadata": {},
   "source": [
    "For a system of $N_{s}$ species that evolve in 1 spatial dimension and 3 velocity dimensions, using\n",
    "a BGK closure, the 1-particle probability distribution functions evolve according to\n",
    "\n",
    "$$\\partial_{t}f_{i} + c_{1}\\partial_{x_{1}}f_{i} + a_{1,i}\\partial_{c_{1}}f_{i} = \\sum_{j=1}^{N_{s}}Q_{ij}^{BGK}[f_{i},f_{j}]$$\n",
    "\n",
    "where $a_{1,i}$ is an optional accelaration field in direction 1 acting on species $i$. "
   ]
  },
  {
   "cell_type": "markdown",
   "metadata": {},
   "source": [
    "### Kinetic Moments"
   ]
  },
  {
   "cell_type": "markdown",
   "metadata": {},
   "source": [
    "#### Species Moments\n",
    "For each species, the number density, mass density, bulk velocity, and internal energy can be defined by moments of the distribution function over velocity space$^{1}$:\n",
    "\n",
    "$$ n_{i} = \\int f_{i}d^{3}\\mathbf{c}$$\n",
    "$$\\rho_{i} = m_{i}n_{i}$$\n",
    "$$\\mathbf{v}_{i} = \\frac{1}{\\rho_{i}}\\int m_{i}\\mathbf{c}f_{i}d^{3}\\mathbf{c}$$\n",
    "$$\\frac{3}{2}n_{i}T_{i} = \\int\\frac{m_{i}}{2}|\\mathbf{c}-\\mathbf{v}_{i}|^{2}d^{3}\\mathbf{c}$$"
   ]
  },
  {
   "cell_type": "markdown",
   "metadata": {},
   "source": [
    "#### Mixture Moments"
   ]
  },
  {
   "cell_type": "markdown",
   "metadata": {},
   "source": [
    "The corresponding total moments for the entire mixture are given by\n",
    "\n",
    "$$n=\\sum_{i}n_{i}$$\n",
    "$$\\rho=\\sum_{i}\\rho_{i}$$\n",
    "$$\\rho\\mathbf{v}=\\sum_{i}\\rho_{i}\\mathbf{v}_{i}$$\n",
    "$$\\frac{3}{2}nT=\\sum_{i}\\int\\frac{m_{i}}{2}|\\mathbf{c}-\\mathbf{v}|^{2}f_{i}d^{3}\\mathbf{c}$$"
   ]
  },
  {
   "cell_type": "markdown",
   "metadata": {},
   "source": [
    "#### Additional  Variables"
   ]
  },
  {
   "cell_type": "markdown",
   "metadata": {},
   "source": [
    "The number density fraction of species $i$ is defined as \n",
    "$$\\chi_{i} = \\frac{n_{i}}{n}$$\n",
    "and the mass density fraction is defined as \n",
    "$$y_{i} = \\frac{\\rho_{i}}{\\rho}$$\n",
    "Diffusion velocity, or deviation from bulk velocity for species $i$ is given by\n",
    "$$\\mathbf{V}_{i} = \\mathbf{v}_{i}-\\mathbf{v}$$\n",
    "Heat capacity per a particle of species $i$ is given by\n",
    "$$c_{v,i} = \\frac{3}{2}$$\n",
    "while the specific heat capacity for a species $i$ is given by\n",
    "$$\\tilde{c}_{v,i} = \\frac{3}{2m_{i}}$$\n",
    "The total internal energy of the system is defined by \n",
    "$$E = \\rho\\left(\\frac{1}{2}\\mathbf{v}\\cdot\\mathbf{v} + \\tilde{c}_{v}T\\right)$$\n",
    "\n",
    "For an ideal gas, the speed of sound is given by \n",
    "$$a = \\sqrt{\\frac{c_{p} p}{c_{v}\\rho}}\\\\\n",
    "= \\sqrt{\\frac{\\gamma p}{\\rho}}$$\n",
    "where $p$ is the pressure. \n",
    "\n",
    "The effective mass, $m_{eff}$, is defined as the mass such that \n",
    "$$m_{eff}n_{tot} = \\sum_{i=1}^{N_{s}}m_{i}n_{i} = \\rho_{tot}$$\n",
    "aka\n",
    "$$m_{eff} = \\left(\\sum_{i=1}^{N_{s}}\\frac{y_{i}}{m_{i}}\\right)^{-1}$$"
   ]
  },
  {
   "cell_type": "markdown",
   "metadata": {},
   "source": [
    "## Fluid Equations $^{1,2}$"
   ]
  },
  {
   "cell_type": "markdown",
   "metadata": {},
   "source": [
    "Evolution of the system of moments is dictated by the fluid equations, which change\n",
    "depending on the order, $N$, of the Chapman-Enskog expansion used. For $N\\leq2$\n",
    "the fluid equations are given by \n",
    "\n",
    "$$\\partial_{t}(\\rho y_{i}) + \\partial_{x}\\{\\rho y_{i} (v_{1} + V_{i,1})\\} = 0$$\n",
    "$$\\partial_{t}(\\rho) + \\partial_{x}(\\rho v_{1}) = 0$$\n",
    "$$\\partial_{t}(\\rho v_{1}) + \\partial_{x}(\\rho v_{1}^{2} + S)=\\rho\\sum_{i=1}^{N_{s}}y_{i}a_{1,i}$$\n",
    "$$\\partial_{t}(E) + \\partial_{x}(E v_{1} + v_{1}\\cdot S + q_{1}) = \\rho\\sum_{i=1}^{N_{s}}y_{i}a_{i,1}(v_{1} + V_{i,1})$$\n",
    "\n",
    "These conserve each species density, total density, momentum, and total energy respectively. For the time being\n",
    "I will look only at systems with no acceleration fields. "
   ]
  },
  {
   "cell_type": "markdown",
   "metadata": {},
   "source": [
    "### Euler Equations\n",
    "To first order, the fluid equations are given by \n",
    "\n",
    "$$S = p = nT$$\n",
    "$$V_{i,1}=q_{1}=0$$\n",
    "\n",
    "Which means the system becomes\n",
    "$$\\partial_{t}(\\rho y_{i}) + \\partial_{x}(\\rho y_{i}v_{1}) = 0$$\n",
    "$$\\partial_{t}(\\rho) + \\partial_{x}(\\rho v_{1}) = 0$$\n",
    "$$\\partial_{t}(\\rho v_{1}) + \\partial_{x}(\\rho v_{1}^{2} + p)= 0$$\n",
    "$$\\partial_{t}(E) + \\partial_{x}(E v_{1} + pv_{1}) = 0$$"
   ]
  },
  {
   "cell_type": "markdown",
   "metadata": {},
   "source": [
    "### Navier-Stokes Equations"
   ]
  },
  {
   "cell_type": "markdown",
   "metadata": {},
   "source": [
    "To second order, the 1d fluid equations are given by \n",
    "\n",
    "$$\\partial_{t}(\\rho y_{i}) + \\partial_{x}\\{\\rho y_{i}(v_{1}+V_{i,1})\\} = 0$$\n",
    "$$\\partial_{t}(\\rho) + \\partial_{x}(\\rho v_{1}) = 0$$\n",
    "$$\\partial_{t}(\\rho v_{1}) + \\partial_{x}\\{\\rho v_{1}^{2} + p - \\Pi_{11}\\} = 0$$\n",
    "$$\\partial_{t}(E) + \\partial_{x}\\{(E+p)v_{1} - v_{1}\\Pi_{11} + q_{1}\\} = 0$$\n",
    "\n",
    "The forms of $V_{i,1}, \\Pi_{11},$ and $q_{1}$ depend on the choice of kinetic closure. \n",
    "Several different forms relevant to a two species plasma are given below for later use."
   ]
  },
  {
   "cell_type": "markdown",
   "metadata": {},
   "source": [
    "To second order (for the BGK closure), the fluid equations are given by \n",
    "\n",
    "$$S=p-\\left(\\frac{4}{3}\\mu_{s}+\\mu_{b}\\right)\\partial_{x}(v_{1})\\\\\n",
    "=p-\\mu\\partial_{x}(v_{1})$$\n",
    "$$V_{i,1}=\\sum_{j=1}^{N_{s}}D_{ij}d_{1,j}$$\n",
    "$$q_{1} = -\\kappa\\partial_{x}T+\\frac{5}{2}nT\\sum_{i=1}^{N_{s}}\\chi_{i}V_{i,1}$$"
   ]
  },
  {
   "cell_type": "markdown",
   "metadata": {},
   "source": [
    "Which means the fluid equations become\n",
    "\n",
    "$$\\partial_{t}(\\rho y_{i}) + \\partial_{x}\\{\\rho y_{i}(v_{1} + V_{i,1})\\} = 0$$\n",
    "$$\\partial_{t}(\\rho) + \\partial_{x}(\\rho v_{1}) = 0$$\n",
    "$$\\partial_{t}(\\rho v_{1}) + \\partial_{x}\\{\\rho v_{1}^{2} + p - \\mu\\partial_{x}(v_{1})\\}=0$$\n",
    "$$\\partial_{t}(E) + \\partial_{x}\\{Ev_{1} + pv_{1} - v_{1}\\mu\\partial_{x}(v_{1})-\\kappa\\partial_{x}T + \n",
    "\\frac{5}{2}nT\\sum_{i}\\chi_{i}V_{i,1}\\}=0$$\n",
    "\n",
    "__Note__: The above system needs to be closed by defining $\\mu,\\kappa,p$ and $V_{i,1}$ in terms of\n",
    "the fluid variables. This can be done from the Chapman-Enskog expansion.$^{1}$"
   ]
  },
  {
   "cell_type": "markdown",
   "metadata": {},
   "source": [
    "# Shocks"
   ]
  },
  {
   "cell_type": "markdown",
   "metadata": {},
   "source": [
    "## The Origin of Shocks $^{4}$"
   ]
  },
  {
   "cell_type": "markdown",
   "metadata": {},
   "source": [
    "To briefly explain the origin of shocks (jump discontinuities), consider the scalar \n",
    "PDE \n",
    "$$\\partial_{t}u + \\partial_{x}f(u) = 0$$\n",
    "Which can be re-written as \n",
    "$$\\partial_{t}u + f'(u)\\partial_{x}u = 0$$\n",
    "Using the method of characteristics, lines of constant $u$ in spacetime are given by\n",
    "$$\\frac{dx}{dt} = f'(u)$$ \n",
    "So that the solution to the above equation for initial conditions $u(x,0)=u_{0}(x)$ is\n",
    "given by \n",
    "$$u(x,t) = u_{0}(x-f'(u)t)$$\n",
    "Solving for the spatial derivative of $u$ gives\n",
    "$$\\partial_{x}u = u_{0}'\\left(1-f''(u)\\partial_{x}(u)t\\right)$$\n",
    "$$\\partial_{x}u = \\frac{u_{0}'}{1+u_{0}'f''(u)t}$$\n",
    "Thus if $f''(u)$ is fixed (i.e. $f$ is concave up or concave down), any initial conditions\n",
    "with an opposite concavity will lead to the gradient becoming infinitely steep at some point\n",
    "in space time--which defines a jump discontinuity. Generalization to systems of PDE's of\n",
    "the same form relies on the the ability to diagonalize the matrix $\\partial{\\mathbf{f}}/\\partial{\\mathbf{u}}$,\n",
    "and using the eigenvectors to reformulate the system as a set of independent PDE's of the form above.\n"
   ]
  },
  {
   "cell_type": "markdown",
   "metadata": {},
   "source": [
    "## Rankine-Hugionot Conditions $^{5,6}$"
   ]
  },
  {
   "cell_type": "markdown",
   "metadata": {},
   "source": [
    "With the knowledge that jump discontinuities can form in conservative systems, the next step\n",
    "is investigating the properties of these jumps. To start, consider the system of PDE's\n",
    "\n",
    "$$\\partial_{t}\\mathbf{u} + \\partial_{v}\\mathbf{f}(\\mathbf{u}) = 0$$\n",
    "\n",
    "\n",
    "Consider the simplest possible system that could have a discontinuity in the spatial\n",
    "domain of interest, $x\\in [a,b]$. Namely, \n",
    "$$\n",
    "\\mathbf{u}(x) = \n",
    "\\begin{cases}\n",
    "\\mathbf{u}_{L},  & x<y(t)\\\\\n",
    "\\mathbf{u}_{R}, & x>y(t)\n",
    "\\end{cases}\n",
    "$$\n",
    "where $y(t)$ is the spatial location of the discontinuity at any time. Defining the total amount ('sum') of\n",
    "each variable in the domain by\n",
    "$$\\mathbf{s}(t) = \\int_{a}^{b}\\mathbf{u}(x,t)dx\\\\\n",
    "= \\int_{a}^{y(t)}\\mathbf{u}(x,t)dx + \\int_{y(t)}^{b}\\mathbf{u}(x,t)dx$$\n",
    "\n",
    "So that, as per Liebniz's rule, \n",
    "\n",
    "$$\\frac{d\\mathbf{s}}{dt} = \\int_{a}^{y(t)}\\partial_{t}\\mathbf{u}dx + \\mathbf{u}_{l}y'(t) \n",
    "+ \\int_{y(t)}^{b}\\partial_{t}\\mathbf{u}dx -\\mathbf{u}_{r}y'(t)\\\\\n",
    "= -\\int_{a}^{y(t)}\\partial_{x}\\mathbf{f}(\\mathbf{u})dx + \\mathbf{u}_{l}y'(t) \n",
    "- \\int_{y(t)}^{b}\\partial_{x}\\mathbf{f}(\\mathbf{u})dx -\\mathbf{u}_{r}y'(t)\\\\\n",
    "= y'(t)\\left(\\mathbf{u}_{L}-\\mathbf{u}_{R}\\right)$$ "
   ]
  },
  {
   "cell_type": "markdown",
   "metadata": {},
   "source": [
    "But, at the same time  \n",
    "\n",
    "$$\\frac{d\\mathbf{s}}{dt} = \\int_{a}^{b}\\partial_{t}\\mathbf{u}dx\\\\\n",
    "=\\int_{a}^{b}-\\partial_{x}\\mathbf{f}(\\mathbf{u})dx\\\\\n",
    "=\\mathbf{f}(\\mathbf{u}_{L})-\\mathbf{f}(\\mathbf{u}_{R})$$\n",
    "\n",
    "Thus equating both sides of $d\\mathbf{s}/dt$ gives the __Rankine-Hugionot__ (RH) equations:\n",
    "$$\n",
    "\\mathbf{f}(\\mathbf{u}_{L})-\\mathbf{f}(\\mathbf{u}_{R}) = y'(t)\\left(\\mathbf{u}_{L}-\\mathbf{u}_{R}\\right)\n",
    "$$\n",
    "\n",
    "Restricting these to a stationary shock gives\n",
    "$$\\mathbf{f}(\\mathbf{u}_{L}) = \\mathbf{f}(\\mathbf{u}_{R})$$"
   ]
  },
  {
   "cell_type": "markdown",
   "metadata": {},
   "source": [
    "## Eulerian Shocks $^{7}$"
   ]
  },
  {
   "cell_type": "markdown",
   "metadata": {},
   "source": [
    "Consider a standing shock, with a pre-shocked upstream state  \n",
    "$$\\mathbf{W}_{R}=(\\mathbf{y}_{R}, \\rho_{R}, \n",
    "v_{1,R}, E_{1,R})$$\n",
    "and shocked downstream state\n",
    "$$\\mathbf{W}_{L}=(\\mathbf{y}_{L}, \\rho_{L}, \n",
    "v_{1,L}, E_{1,L})$$\n",
    "for an Eulerian fluid. Then the RH equations state that\n",
    "\n",
    "$$\\rho_{L}\\mathbf{y}_{L}v_{1,L} = \\rho_{R}\\mathbf{y}_{R}v_{1,R}$$\n",
    "$$\\rho_{L}v_{1,L} = \\rho_{R}v_{1,R}$$\n",
    "$$\\rho_{L}v_{1,L}^{2} + p_{L} = \\rho_{R}v_{1,R}^{2} + p_{R}$$\n",
    "$$v_{1,L}\\left(E_{L} + p_{L}\\right) = v_{1,R}\\left(E_{R} + p_{R}\\right)$$\n",
    "\n",
    "Which simplifies to\n",
    "\n",
    "$$\\rho_{L}\\mathbf{y}_{L}v_{1,L} = \\rho_{R}\\mathbf{y}_{R}v_{1,R}$$\n",
    "$$\\rho_{L}v_{1,L} = \\rho_{R}v_{1,R}$$\n",
    "$$\\rho_{L}v_{1,L}^{2} + p_{L} = \\rho_{R}v_{1,R}^{2} + p_{R}$$\n",
    "$$\\frac{1}{2}v_{1,L}^{2} + c_{v}T_{L} + \\frac{p_{L}}{\\rho_{L}} =\n",
    "\\frac{1}{2}v_{1,R}^{2} + c_{v}T_{R} + \\frac{p_{R}}{\\rho_{R}}$$\n",
    "\n",
    "Defining the dimensionless upstream velocity, $M_{R}$ by\n",
    "$$ M_{R}\\sqrt{\\frac{\\gamma p_{R}}{\\rho_{R}}} = v_{1,R}$$\n",
    "and assuming an ideal gas E.O.S.:\n",
    "$$ p = \\rho \\tilde{c}_{v}T(\\gamma-1)$$\n",
    "\n",
    "The above simplify to \n",
    "\n",
    "$$\\mathbf{y}_{L} = \\mathbf{y}_{R}$$\n",
    "$$\\frac{\\rho_{L}}{\\rho_{R}}=\\frac{v_{1,R}}{v_{1,L}}=\\frac{(\\gamma+1)M_{R}^{2}}{(\\gamma-1)M_{R}^{2}+2}$$\n",
    "$$\\frac{T_{L}}{T_{R}} = \\frac{\\{2\\gamma M_{R}^{2}-(\\gamma-1)\\}\\{M_{R}^{2}(\\gamma-1)+2\\}}{(\\gamma+1)^{2}M_{R}^{2}}$$\n",
    "\n",
    "Note that there is no species seperation, and the the width of the shock is 0. "
   ]
  },
  {
   "cell_type": "markdown",
   "metadata": {},
   "source": [
    "## Navier-Stokes 'Shock'"
   ]
  },
  {
   "cell_type": "markdown",
   "metadata": {},
   "source": [
    "Consider a steady state flow, with an upstream state  \n",
    "$$\\mathbf{W}_{R}=(\\mathbf{y}_{R}, \\rho_{R}, \n",
    "v_{1,R}, E_{1,R})$$\n",
    "and downstream state\n",
    "$$\\mathbf{W}_{L}=(\\mathbf{y}_{L}, \\rho_{L}, \n",
    "v_{1,L}, E_{1,L})$$\n",
    "\n",
    "From the NS equations, this flow must satisfy the equations\n",
    "\n",
    "$$\\rho y_{i}(v_{1} + V_{i,1}) = C_{i}$$\n",
    "$$\\rho v_{1} = R$$\n",
    "$$\\rho v_{1}^{2} + p -\\mu\\frac{dv_{1}}{dx} = \\tilde{M}$$\n",
    "$$\\{\\frac{1}{2}\\rho v_{1}^{2} + \\rho \\tilde{c}_{v}T + p -\\mu\\frac{dv_{1}}{dx}\\}v_{1}\n",
    "-\\kappa\\frac{dT}{dx}+\\rho \\tilde{c}_{p}T\\sum_{i}y_{i}V_{i,1}=\\tilde{E}$$\n",
    "\n",
    "Assuming a mixture of 2 species and defining\n",
    "$$M = \\frac{\\tilde{M}}{R}$$\n",
    "$$E = \\frac{\\tilde{E}}{R}$$\n",
    "$$\\xi = E -\\frac{M^{2}}{2}$$\n",
    "$$\\Delta_{12} = \\frac{m_{1}-m_{2}}{m_{1}m_{2}}$$\n",
    "$$\\zeta = \\frac{C_{1}}{m_{1}}+\\frac{C_{2}}{m_{2}}-\\frac{R}{m_{2}}$$\n",
    "\n",
    "Simplifying gives the system of equations\n",
    "$$V_{1,1} = \\left(\\frac{C_{1}}{R y_{1}}-1\\right)v_{1}$$\n",
    "$$\\mu\\frac{dv_{1}}{dx} = p + R\\left(v_{1} - M\\right)$$\n",
    "$$\\kappa\\frac{dT}{dx} = \\{e-\\frac{1}{2}(v_{1}-M)^{2}-\\xi\\} + \\frac{5}{2}T\\{\\zeta + \\Delta_{12}RY_{1}\\}$$\n",
    "Note that the constraint $\\sum_{i}y_{i}=1$ makes the additional equation for $V_{2,1}$ \n",
    "un-necessary since $dy_{2}/dx = -dy_{1}/dx$. "
   ]
  },
  {
   "cell_type": "markdown",
   "metadata": {},
   "source": [
    "All of this seems well and good until the diffusion velocity have to be expressed in terms of\n",
    "the other variables. Then all goes to chaos. From the BGK closure,\n",
    "\n",
    "$$\\mathbf{V}_{1} = D\\mathbf{d}_{1}$$\n",
    "Where $D$ is the diffusion matrix and \n",
    "$$d_{i,1} = \\frac{d\\chi_{i}}{dx} + (\\chi_{i}-y_{i})\\frac{d(\\log p)}{dx}$$\n",
    "\n",
    "To finally get a matrix equation to solve for the derivatives, it is necessary to define an \n",
    "intermediate variable. Define the mass ratio of species $i$ as\n",
    "$$\\varepsilon_{i} = \\frac{m_{eff}}{m_{i}}$$\n",
    "Then, assuming an ideal gas eos, \n",
    "$$d_{i,1} = \\varepsilon_{i}\\frac{dy_{i}}{dx} \n",
    "- y_{i}\\left(\\sum_{j=1}^{N_{s}}\\varepsilon_{j}\\frac{dy_{j}}{dx}\\right)\n",
    "+y_{i}(\\varepsilon_{i}-1)\\frac{1}{T}\\frac{dT}{dx}\n",
    "-y_{i}(\\varepsilon_{i}-1)\\frac{1}{v_{1}}\\frac{dv_{1}}{dx}$$\n",
    "\n",
    "\n",
    "What changes does this generate in the shock width? To investigate, we will look\n",
    "at the resulting phase portrait from the above equations for the transformed coordinates\n",
    "\n",
    "$$\\bar{\\rho} = \\frac{2(\\rho-\\rho_{L})}{\\rho_{R}-\\rho_{L}}-1$$\n",
    "\n",
    "$$\\bar{v}_{1} = \\frac{2(v_{1}-v_{1,L})}{v_{1,R}-v_{1,L}}-1$$\n",
    "\n",
    "$$\\bar{T} = \\frac{2(T-T_{L})}{T_{R}-T_{L}}-1$$\n"
   ]
  },
  {
   "cell_type": "code",
   "execution_count": 20,
   "metadata": {},
   "outputs": [],
   "source": [
    "#data type for fixed concentration phase portraits\n",
    "tphasep = np.dtype([('dv', np.double), \n",
    "                    ('dT', np.double),\n",
    "                    ('dY1', np.double),\n",
    "                    ('dY2', np.double)])\n",
    "\n",
    "\n",
    "def get_derivatives(tclass, C, R, M, E, \n",
    "                    v, T, mfracs):\n",
    "    tclass.set_transport(T, R/v, mfracs)\n",
    "    out = np.zeros(mfracs.shape[0] +2, dtype=np.double)\n",
    "    A = np.zeros((mfracs.shape[0], mfracs.shape[0]), dtype=np.double)\n",
    "    rhs = np.zeros(mfracs.shape[0])\n",
    "    meff = np.sum(mfracs/tclass.mass)**-1\n",
    "    eps = meff/tclass.mass\n",
    "    ntot = R/(v*meff)\n",
    "    #dv/dx rhs\n",
    "    out[0] = tclass.cd['kb']*ntot*T + R*v - M\n",
    "    out[0] = 0.75*out[0]/tclass.tdict['mus']\n",
    "    #dT/dx rhs\n",
    "    out[1] = 5.0*np.sum(mfracs*((C/R)-mfracs)/tclass.mass)\n",
    "    out[1] = 0.5*T*tclass.cd['kb']*R*(out[1] + 3.0/meff)\n",
    "    out[1] = out[1] - v*(0.5*R*v + M) - E\n",
    "    out[1] = out[1]/tclass.tdict['k']/tclass.cd['kb']\n",
    "    #set rhs to solve for dys/dx\n",
    "    #step1: set matrix for inlcuding terms \n",
    "    #       due to dT/dx, dV/dx\n",
    "    for i in range(mfracs.shape[0]):\n",
    "        a = mfracs[i]*(eps[i]-1)\n",
    "        rhs[i] = a*((out[1]/T)-(out[0]/v))\n",
    "    rhs[:] = tclass.tdict['dmat']@rhs\n",
    "    #step 2: add those terms to orignal terms\n",
    "    for i in range(mfracs.shape[0]):\n",
    "        rhs[i] = ((C[i]/R)-mfracs[i])*v - rhs[i]\n",
    "    #step 3: set matrix that needs to be solved\n",
    "    for i in range(mfracs.shape[0]):\n",
    "        A[:, i] = eps[i]\n",
    "    for i in range(mfracs.shape[0]):\n",
    "        A[i, 0:i] = -1.0*A[i, 0:i]*mfracs[i]\n",
    "        A[i, i+1:] = -1.0*A[i, i+1:]*mfracs[i]\n",
    "        A[i, i] = A[i,i]*(1.0-mfracs[i])\n",
    "    #step 4: solve\n",
    "    A = tclass.tdict['dmat']@A\n",
    "    out[2] = (A[0, 1] + rhs[0])/np.sum(A[0, :])\n",
    "    out[-1] = -1*out[2]\n",
    "    return out\n",
    "    \n",
    "\n",
    "\n",
    "\n",
    "class NsShockPhasePortrait(object):\n",
    "    \n",
    "    def __init__(self, cd, mass, znuc, M, rhor, vr, Tr, mfracr, Nt, Nv, g=5.0/3.0):\n",
    "        self.cd = cd\n",
    "        self.portrait = np.zeros((Nv, Nt), dtype=tphasep)\n",
    "        self.sr = {'rho':rhor, 'v':vr, 'T':Tr, 'ys':mfracr}\n",
    "        self.sl = self._get_sl(M, g)\n",
    "        #set axis limits\n",
    "        self.vlim = self._get_vlims()\n",
    "        self.Tlim = self._get_tlims()\n",
    "        self.set_portrait(cd, mass, znuc, M, g)\n",
    "        self.rescale_portrait()\n",
    "        \n",
    "\n",
    "    def _get_sl(self, M, g):\n",
    "        out = {'rho':0.0, 'v':0.0, 'T':0.0, \n",
    "               'ys':np.copy(self.sr['ys'])}\n",
    "        out['rho'] = (g-1.0)*M*M + 2\n",
    "        out['rho'] = (g+1.0)*M*M*self.sr['rho']/out['rho']\n",
    "        out['v'] = (g+1.0)*M*M\n",
    "        out['v'] = self.sr['v']*((g-1.0)*M*M +2.0)/out['v']\n",
    "        out['T'] = ((g-1.0)*M*M + 2.0)/((g+1.0)*M)\n",
    "        out['T'] = out['T']*(2.0*g*M*M - g + 1.0)/((g+1.0)*M)\n",
    "        out['T'] = out['T']*self.sr['T']\n",
    "        return out\n",
    "    \n",
    "    \n",
    "    def _get_vlims(self):\n",
    "        vmin = 0.5*(self.sl['v'] + self.sr['v'])\n",
    "        vmax = 0.5*(self.sl['v'] + self.sr['v'])\n",
    "        vmin = -1*(self.sr['v']-self.sl['v']) + vmin\n",
    "        vmax = (self.sr['v']-self.sl['v'])+vmax\n",
    "        out = (vmin, vmax)\n",
    "        return out        \n",
    "    \n",
    "    \n",
    "    def _get_tlims(self):\n",
    "        tmin = 0.5*(self.sl['T'] + self.sr['T'])\n",
    "        tmax = 0.5*(self.sl['T'] + self.sr['T'])\n",
    "        tmin = -1*(self.sr['T']-self.sl['T']) + tmin\n",
    "        tmax = (self.sr['T']-self.sl['T'])+tmax\n",
    "        out = (tmin, tmax)\n",
    "        return out\n",
    "        \n",
    "        \n",
    "    def set_portrait(self, cd, mass, znuc, M, g):\n",
    "        #transport generator\n",
    "        t = BGK_Htransport(cd, mass, znuc, self.sr['T'], \n",
    "                           self.sr['rho'], self.sr['ys'])\n",
    "        #set constants\n",
    "        ndens = np.sum(self.sr['rho']*self.sr['ys']/mass)\n",
    "        C = self.sr['rho']*self.sr['v']*self.sr['ys']\n",
    "        R = self.sr['rho']*self.sr['v']\n",
    "        M = self.sr['rho']*self.sr['v']*self.sr['v']\n",
    "        M = M + ndens*t.cd['kb']*self.sr['T']\n",
    "        E = 0.5*self.sr['rho']*self.sr['v']*self.sr['v']\n",
    "        E = E + 5.0*0.5*ndens*t.cd['kb']*self.sr['T']\n",
    "        E = E*self.sr['v']\n",
    "        for i in range(self.portrait.shape[0]):\n",
    "            v = i/(self.portrait.shape[0]-1.0)\n",
    "            v = v*(self.vlim[1] - self.vlim[0]) + self.vlim[0]\n",
    "            self.v.append(v)\n",
    "            for j in range(self.portrait.shape[1]):\n",
    "                T = i/(self.portrait.shape[1]-1.0)\n",
    "                T = T*(self.Tlim[1]-self.Tlim[0]) + self.Tlim[0]\n",
    "                \n",
    "                o = get_derivatives(t, C, R, M, E, v, T, self.sr['ys'])\n",
    "                self.portrait[i,j]['dv'] = o[0]\n",
    "                self.portrait[i,j]['dT'] = o[1]\n",
    "                self.portrait[i, j]['dY1'] = o[2]\n",
    "                self.portrait[i,j]['dY2'] = o[3]\n",
    "       \n",
    "    \n",
    "    def rescale_portrait(self):\n",
    "        self.portrait[:,:]['dv'] = 2*self.portrait[:,:]['dv']/(self.sr['v']-self.sl['v'])\n",
    "        self.portrait[:,:]['dT'] = 2*self.portrait[:,:]['dT']/(self.sr['T']-self.sl['T'])    \n",
    "                \n",
    "        "
   ]
  },
  {
   "cell_type": "code",
   "execution_count": 36,
   "metadata": {},
   "outputs": [
    {
     "name": "stdout",
     "output_type": "stream",
     "text": [
      "Rho:1.000000e+02\n",
      "Vel:-1.300000e+01\n",
      "Temp:1.160452e+03\n"
     ]
    }
   ],
   "source": [
    "#initial right state, in cgs\n",
    "mass = np.array([1.6605e-27, 1.9926e-26], dtype=np.double)#/cgs_const['me']\n",
    "znuc = np.array([1.0, 6.0], dtype=np.double)\n",
    "#kg/m^{3}\n",
    "rhor = 1e2\n",
    "#rhor = rhor*a0*a0*a0/cgs_const['me']\n",
    "print(\"Rho:%e\" % rhor)\n",
    "#km/s\n",
    "vr = -1.3e1\n",
    "#vr = 2.4188843265857e-17*vr/a0\n",
    "print(\"Vel:%e\" % vr)\n",
    "#eV to J\n",
    "eV2K = 1.160451812e4\n",
    "#eV\n",
    "Tr = 0.1*eV2K\n",
    "print(\"Temp:%e\" % Tr)\n",
    "#mfracs\n",
    "mfracr = np.array([0.8, 0.2], dtype=np.double)\n",
    "M = 2.0\n",
    "p = NsShockPhasePortrait(si_const, mass, znuc, M, rhor, vr, Tr, mfracr, 50, 50)"
   ]
  },
  {
   "cell_type": "code",
   "execution_count": 37,
   "metadata": {},
   "outputs": [
    {
     "data": {
      "text/plain": [
       "array([[(-2.05861876e+12,    851209.01769453, -4.07606495e+12,  4.07606495e+12),\n",
       "        (-2.05861876e+12,    851209.01769453, -4.07606495e+12,  4.07606495e+12),\n",
       "        (-2.05861876e+12,    851209.01769453, -4.07606495e+12,  4.07606495e+12),\n",
       "        ...,\n",
       "        (-2.05861876e+12,    851209.01769453, -4.07606495e+12,  4.07606495e+12),\n",
       "        (-2.05861876e+12,    851209.01769453, -4.07606495e+12,  4.07606495e+12),\n",
       "        (-2.05861876e+12,    851209.01769453, -4.07606495e+12,  4.07606495e+12)],\n",
       "       [(-1.95098441e+12,    884336.39685382, -3.36805153e+12,  3.36805153e+12),\n",
       "        (-1.95098441e+12,    884336.39685382, -3.36805153e+12,  3.36805153e+12),\n",
       "        (-1.95098441e+12,    884336.39685382, -3.36805153e+12,  3.36805153e+12),\n",
       "        ...,\n",
       "        (-1.95098441e+12,    884336.39685382, -3.36805153e+12,  3.36805153e+12),\n",
       "        (-1.95098441e+12,    884336.39685382, -3.36805153e+12,  3.36805153e+12),\n",
       "        (-1.95098441e+12,    884336.39685382, -3.36805153e+12,  3.36805153e+12)],\n",
       "       [(-1.85380936e+12,    901620.6444302 , -2.83685443e+12,  2.83685443e+12),\n",
       "        (-1.85380936e+12,    901620.6444302 , -2.83685443e+12,  2.83685443e+12),\n",
       "        (-1.85380936e+12,    901620.6444302 , -2.83685443e+12,  2.83685443e+12),\n",
       "        ...,\n",
       "        (-1.85380936e+12,    901620.6444302 , -2.83685443e+12,  2.83685443e+12),\n",
       "        (-1.85380936e+12,    901620.6444302 , -2.83685443e+12,  2.83685443e+12),\n",
       "        (-1.85380936e+12,    901620.6444302 , -2.83685443e+12,  2.83685443e+12)],\n",
       "       ...,\n",
       "       [( 4.43087061e+11, -11959407.29452267,  1.10953284e+11, -1.10953284e+11),\n",
       "        ( 4.43087061e+11, -11959407.29452267,  1.10953284e+11, -1.10953284e+11),\n",
       "        ( 4.43087061e+11, -11959407.29452267,  1.10953284e+11, -1.10953284e+11),\n",
       "        ...,\n",
       "        ( 4.43087061e+11, -11959407.29452267,  1.10953284e+11, -1.10953284e+11),\n",
       "        ( 4.43087061e+11, -11959407.29452267,  1.10953284e+11, -1.10953284e+11),\n",
       "        ( 4.43087061e+11, -11959407.29452267,  1.10953284e+11, -1.10953284e+11)],\n",
       "       [( 4.88030958e+11, -12602013.07555737,  1.19976999e+11, -1.19976999e+11),\n",
       "        ( 4.88030958e+11, -12602013.07555737,  1.19976999e+11, -1.19976999e+11),\n",
       "        ( 4.88030958e+11, -12602013.07555737,  1.19976999e+11, -1.19976999e+11),\n",
       "        ...,\n",
       "        ( 4.88030958e+11, -12602013.07555737,  1.19976999e+11, -1.19976999e+11),\n",
       "        ( 4.88030958e+11, -12602013.07555737,  1.19976999e+11, -1.19976999e+11),\n",
       "        ( 4.88030958e+11, -12602013.07555737,  1.19976999e+11, -1.19976999e+11)],\n",
       "       [( 5.33604344e+11, -13271273.33903187,  1.28828854e+11, -1.28828854e+11),\n",
       "        ( 5.33604344e+11, -13271273.33903187,  1.28828854e+11, -1.28828854e+11),\n",
       "        ( 5.33604344e+11, -13271273.33903187,  1.28828854e+11, -1.28828854e+11),\n",
       "        ...,\n",
       "        ( 5.33604344e+11, -13271273.33903187,  1.28828854e+11, -1.28828854e+11),\n",
       "        ( 5.33604344e+11, -13271273.33903187,  1.28828854e+11, -1.28828854e+11),\n",
       "        ( 5.33604344e+11, -13271273.33903187,  1.28828854e+11, -1.28828854e+11)]],\n",
       "      dtype=[('dv', '<f8'), ('dT', '<f8'), ('dY1', '<f8'), ('dY2', '<f8')])"
      ]
     },
     "execution_count": 37,
     "metadata": {},
     "output_type": "execute_result"
    }
   ],
   "source": [
    "p.portrait"
   ]
  },
  {
   "cell_type": "code",
   "execution_count": 35,
   "metadata": {},
   "outputs": [
    {
     "data": {
      "text/plain": [
       "<matplotlib.streamplot.StreamplotSet at 0x15192cbe10>"
      ]
     },
     "execution_count": 35,
     "metadata": {},
     "output_type": "execute_result"
    },
    {
     "data": {
      "image/png": "[encoded data removed]",
      "text/plain": [
       "<Figure size 432x288 with 1 Axes>"
      ]
     },
     "metadata": {
      "needs_background": "light"
     },
     "output_type": "display_data"
    }
   ],
   "source": [
    "v = np.linspace(-1, 1, num=50)\n",
    "T = np.linspace(-1, 1, num=50)\n",
    "\n",
    "plt.streamplot(v, T, p.portrait['dv'], p.portrait['dT'])"
   ]
  },
  {
   "cell_type": "code",
   "execution_count": 39,
   "metadata": {},
   "outputs": [
    {
     "data": {
      "text/plain": [
       "0"
      ]
     },
     "execution_count": 39,
     "metadata": {},
     "output_type": "execute_result"
    }
   ],
   "source": [
    "int(False)"
   ]
  },
  {
   "cell_type": "markdown",
   "metadata": {},
   "source": [
    "# Citations"
   ]
  },
  {
   "cell_type": "markdown",
   "metadata": {},
   "source": [
    "1. J Stat Phys (2017) 168:826–856\n",
    "DOI 10.1007/s10955-017-1824-9\n",
    "2. Combustion Theory\n",
    "Williams, Forman A. 05 March 2018\n",
    "3. https://journals.aps.org/pre/pdf/10.1103/PhysRevE.93.043203#c33\n",
    "4. https://epubs.siam.org/doi/book/10.1137/1.9781611975109\n",
    "5. http://www.personal.psu.edu/axb62/PSPDF/clawtut09.pdf\n",
    "6. https://epubs.siam.org/doi/pdf/10.1137/1.9781611970562.ch1\n",
    "7. Toro, Eleuterio F.. Riemann Solvers and Numerical Methods for Fluid Dynamics : A Practical Introduction, Springer, 2009. ProQuest Ebook Central, https://ebookcentral.proquest.com/lib/alamos/detail.action?docID=438075."
   ]
  },
  {
   "cell_type": "code",
   "execution_count": null,
   "metadata": {},
   "outputs": [],
   "source": []
  }
 ],
 "metadata": {
  "kernelspec": {
   "display_name": "Python 3",
   "language": "python",
   "name": "python3"
  },
  "language_info": {
   "codemirror_mode": {
    "name": "ipython",
    "version": 3
   },
   "file_extension": ".py",
   "mimetype": "text/x-python",
   "name": "python",
   "nbconvert_exporter": "python",
   "pygments_lexer": "ipython3",
   "version": "3.7.3"
  }
 },
 "nbformat": 4,
 "nbformat_minor": 2
}
